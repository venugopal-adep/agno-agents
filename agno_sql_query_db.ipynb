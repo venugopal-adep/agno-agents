{
 "cells": [
  {
   "cell_type": "markdown",
   "id": "8161ac21",
   "metadata": {},
   "source": [
    "# Building an AI Agent with AGNO: Using Natural Language to Query SQLite Databases\n",
    "\n",
    "## Introduction\n",
    "\n",
    "AGNO is an open-source, lightweight library designed for building AI agents with memory, knowledge, tools, and reasoning capabilities. In this guide, we'll explore how to create an AI agent that can join tables and execute complex queries in a SQLite database using natural language instructions.\n",
    "\n",
    "## Prerequisites\n",
    "\n",
    "- Python 3.x (latest version)\n",
    "- Required packages:\n",
    "  ```\n",
    "  agno\n",
    "  sqlalchemy\n",
    "  python-dotenv\n",
    "  ```\n",
    "- OpenAI API key in a .env file\n",
    "\n",
    "## Setting Up the Database\n",
    "\n",
    "Let's start by creating a sample SQLite database with customer and order data:"
   ]
  },
  {
   "cell_type": "code",
   "execution_count": 1,
   "id": "38240428",
   "metadata": {},
   "outputs": [],
   "source": [
    "from sqlalchemy import create_engine, text\n",
    "\n",
    "db_url = \"sqlite:///example.db\"\n",
    "engine = create_engine(db_url)\n",
    "\n",
    "with engine.connect() as connection:\n",
    "    connection.execute(text(\"PRAGMA foreign_keys = ON;\"))\n",
    "    connection.execute(text(\"\"\"\n",
    "        CREATE TABLE IF NOT EXISTS customers (\n",
    "            id INTEGER PRIMARY KEY AUTOINCREMENT,\n",
    "            name TEXT,\n",
    "            email TEXT\n",
    "        );\n",
    "    \"\"\"))\n",
    "    connection.execute(text(\"\"\"\n",
    "        CREATE TABLE IF NOT EXISTS orders (\n",
    "            id INTEGER PRIMARY KEY AUTOINCREMENT,\n",
    "            customer_id INTEGER,\n",
    "            product TEXT,\n",
    "            amount NUMERIC(10, 2),\n",
    "            FOREIGN KEY (customer_id) REFERENCES customers(id)\n",
    "        );\n",
    "    \"\"\"))\n",
    "\n",
    "    # Insert sample data\n",
    "    connection.execute(text(\"INSERT INTO customers (id, name, email) VALUES (1, 'John Doe', 'john@example.com');\"))\n",
    "    connection.execute(text(\"INSERT INTO customers (id, name, email) VALUES (2, 'Jane Smith', 'jane@example.com');\"))\n",
    "    connection.execute(text(\"INSERT INTO orders (id, customer_id, product, amount) VALUES (1, 1, 'Laptop', 999.99);\"))\n",
    "    connection.execute(text(\"INSERT INTO orders (id, customer_id, product, amount) VALUES (2, 1, 'Mouse', 19.99);\"))\n",
    "    connection.execute(text(\"INSERT INTO orders (id, customer_id, product, amount) VALUES (3, 2, 'Keyboard', 49.99);\"))\n",
    "    connection.commit()"
   ]
  },
  {
   "cell_type": "markdown",
   "id": "a813d21c",
   "metadata": {},
   "source": [
    "This script creates two tables:\n",
    "- **customers**: storing customer information\n",
    "- **orders**: storing order details with a foreign key to customers\n",
    "\n",
    "## Setting Up the API Key\n",
    "\n",
    "First, create a .env file in your project directory:\n",
    "\n",
    "```\n",
    "OPENAI_API_KEY=your-openai-api-key-here\n",
    "```\n",
    "\n",
    "## Building the AGNO Agent\n",
    "\n",
    "Now let's set up the AGNO agent that will interpret natural language and execute SQL queries:\n"
   ]
  },
  {
   "cell_type": "code",
   "execution_count": 2,
   "id": "89d2caea",
   "metadata": {},
   "outputs": [],
   "source": [
    "import os\n",
    "from dotenv import load_dotenv\n",
    "\n",
    "# Load environment variables from .env file\n",
    "load_dotenv()\n",
    "\n",
    "# Verify API key is available\n",
    "openai_api_key = os.getenv(\"OPENAI_API_KEY\")\n",
    "if not openai_api_key:\n",
    "    raise ValueError(\"OPENAI_API_KEY not found in .env file\")\n",
    "\n",
    "from agno.agent import Agent\n",
    "from agno.models.openai import OpenAIChat\n",
    "from agno.tools.sql import SQLTools\n",
    "\n",
    "# Setup database connection\n",
    "db_url = \"sqlite:///example.db\"\n",
    "\n",
    "# Create the Agent with explicit API key\n",
    "agent = Agent(\n",
    "    model=OpenAIChat(\n",
    "        \"gpt-4o-mini\", \n",
    "        api_key=openai_api_key  # Explicitly pass the API key\n",
    "    ),\n",
    "    tools=[SQLTools(db_url=db_url)],\n",
    "    show_tool_calls=True,\n",
    "    markdown=False\n",
    ")"
   ]
  },
  {
   "cell_type": "markdown",
   "id": "2954bf6e",
   "metadata": {},
   "source": [
    "The key improvements in this code:\n",
    "1. We explicitly load the .env file\n",
    "2. We verify the API key exists before proceeding\n",
    "3. We pass the API key directly to the OpenAIChat model\n",
    "\n",
    "## Using the Agent for Natural Language Queries\n",
    "\n",
    "Let's see how the agent handles different types of queries:\n",
    "\n",
    "### Example 1: Retrieving joined data"
   ]
  },
  {
   "cell_type": "code",
   "execution_count": 3,
   "id": "c5811f68",
   "metadata": {},
   "outputs": [
    {
     "name": "stdout",
     "output_type": "stream",
     "text": [
      "Here are the customers and their orders:\n",
      "\n",
      "| Customer ID | Customer Name | Customer Email      | Order ID | Product | Amount  |\n",
      "|-------------|---------------|---------------------|----------|---------|---------|\n",
      "| 1           | John Doe     | john@example.com    | 1        | Laptop  | 999.99  |\n",
      "| 1           | John Doe     | john@example.com    | 2        | Mouse   | 19.99   |\n",
      "| 2           | Jane Smith   | jane@example.com    | 3        | Keyboard| 49.99   |\n",
      "\n",
      "- **John Doe** has ordered a **Laptop** and a **Mouse**.\n",
      "- **Jane Smith** has ordered a **Keyboard**.\n"
     ]
    }
   ],
   "source": [
    "response = agent.run(\"Get all customers and their orders\")\n",
    "print(response.content)"
   ]
  },
  {
   "cell_type": "markdown",
   "id": "0979411d",
   "metadata": {},
   "source": [
    "The agent will generate and execute a query like:\n",
    "```sql\n",
    "SELECT * FROM customers JOIN orders ON customers.id = orders.customer_id;\n",
    "```\n",
    "\n",
    "### Example 2: Performing aggregations"
   ]
  },
  {
   "cell_type": "code",
   "execution_count": 4,
   "id": "1361de2c",
   "metadata": {},
   "outputs": [
    {
     "name": "stdout",
     "output_type": "stream",
     "text": [
      "Here are the customers and their total amount spent on their orders:\n",
      "\n",
      "| Customer ID | Customer Name | Total Spent |\n",
      "|-------------|---------------|--------------|\n",
      "| 1           | John Doe     | $1019.98    |\n",
      "| 2           | Jane Smith   | $49.99      |\n"
     ]
    }
   ],
   "source": [
    "response = agent.run(\"Get all customers and their total amount spent on their orders.\")\n",
    "print(response.content)"
   ]
  },
  {
   "cell_type": "markdown",
   "id": "45be3fad",
   "metadata": {},
   "source": [
    "The agent will generate a more complex query:\n",
    "```sql\n",
    "SELECT c.name, SUM(o.amount) \n",
    "FROM customers c \n",
    "JOIN orders o ON c.id = o.customer_id \n",
    "GROUP BY c.name;\n",
    "```\n",
    "\n",
    "## Behind the Scenes\n",
    "\n",
    "What makes this possible is AGNO's SQLTools integration. When you ask a question in natural language:\n",
    "\n",
    "1. The model interprets your question\n",
    "2. The SQLTools component translates it into a valid SQL query\n",
    "3. The query executes against your database\n",
    "4. Results are formatted and returned to you\n",
    "\n",
    "AGNO handles all the complexity of query generation, database connections, and result formatting.\n",
    "\n",
    "## Advantages of This Approach\n",
    "\n",
    "- **Accessibility**: Non-technical users can query databases\n",
    "- **Flexibility**: Works with complex SQL operations (joins, aggregations, filtering)\n",
    "- **Efficiency**: Faster than writing SQL queries manually, especially for complex reports\n",
    "- **Extensibility**: The same pattern works for other database engines (PostgreSQL, MySQL, etc.)\n",
    "\n",
    "## Conclusion\n",
    "\n",
    "With just a few lines of code, AGNO allows you to create an AI agent that can interpret natural language queries and execute appropriate SQL commands. This approach simplifies database interaction and can be extended to more complex database scenarios.\n",
    "\n",
    "SQLite's lightweight nature makes it perfect for prototyping and small applications, while AGNO's flexibility allows it to work with various database systems.\n",
    "\n",
    "## Next Steps\n",
    "\n",
    "- Experiment with more complex queries\n",
    "- Connect to larger databases\n",
    "- Add memory capabilities to your agent\n",
    "- Combine with other AGNO tools for more capabilities\n",
    "\n",
    "Ready to build your own natural language database interface? Give AGNO a try and see how it can enhance your applications!"
   ]
  }
 ],
 "metadata": {
  "kernelspec": {
   "display_name": "base",
   "language": "python",
   "name": "python3"
  },
  "language_info": {
   "codemirror_mode": {
    "name": "ipython",
    "version": 3
   },
   "file_extension": ".py",
   "mimetype": "text/x-python",
   "name": "python",
   "nbconvert_exporter": "python",
   "pygments_lexer": "ipython3",
   "version": "3.12.4"
  }
 },
 "nbformat": 4,
 "nbformat_minor": 5
}
