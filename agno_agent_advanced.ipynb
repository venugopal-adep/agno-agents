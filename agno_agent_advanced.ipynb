{
 "cells": [
  {
   "cell_type": "markdown",
   "id": "d2132f22",
   "metadata": {},
   "source": [
    "# Building an Advanced AI Agent for Thai Cuisine with Agno Framework\n",
    "\n",
    "In today's article, I'll walk you through creating an advanced AI agent specialized in Thai cuisine using the Agno framework. This agent combines document understanding and web search capabilities to deliver comprehensive cooking advice and cultural information about Thai food.\n",
    "\n",
    "## Understanding the Agno Framework\n",
    "\n",
    "The [Agno framework](https://github.com/agno-ai/agno) provides a modular approach to building AI agents with specialized knowledge and capabilities. Let's explore how we can leverage this framework to create a Thai cuisine expert.\n",
    "\n",
    "## Setting Up the Environment\n",
    "\n",
    "First, we need to import the necessary components and set up our environment:"
   ]
  },
  {
   "cell_type": "code",
   "execution_count": 1,
   "id": "ea8e8125",
   "metadata": {},
   "outputs": [],
   "source": [
    "from agno.agent import Agent  # Import the main Agent class\n",
    "from agno.models.openai import OpenAIChat  # Import the OpenAI chat model\n",
    "from agno.embedder.openai import OpenAIEmbedder  # Import OpenAI embedding model\n",
    "from agno.tools.duckduckgo import DuckDuckGoTools  # Import web search capability\n",
    "from agno.knowledge.pdf_url import PDFUrlKnowledgeBase  # Import PDF knowledge base\n",
    "from agno.vectordb.lancedb import LanceDb, SearchType  # Import vector database\n",
    "import os  # For environment variables\n",
    "from dotenv import load_dotenv  # For loading environment variables from .env file\n",
    "load_dotenv(override=True)  # Load environment variables from .env file\n",
    "\n",
    "os.environ[\"OPENAI_API_KEY\"]=os.getenv(\"OPENAI_API_KEY\")  # Set OpenAI API key"
   ]
  },
  {
   "cell_type": "markdown",
   "id": "9f01af83",
   "metadata": {},
   "source": [
    "This setup imports all the necessary components and loads our API key from a .env file.\n",
    "\n",
    "## Creating the Thai Cuisine Agent\n",
    "\n",
    "Now, let's create our specialized agent:\n"
   ]
  },
  {
   "cell_type": "code",
   "execution_count": 2,
   "id": "8c02f089",
   "metadata": {},
   "outputs": [],
   "source": [
    "agent = Agent(  # Create an agent instance\n",
    "    model=OpenAIChat(id=\"gpt-4o-mini\"),  # Use GPT-4o-mini model\n",
    "    description=\"You are a Thai cuisine expert!\",  # Set agent's role\n",
    "    instructions=[  # Define agent's behavior\n",
    "        \"Search your knowledge base for Thai recipes.\",  # Primary source is knowledge base\n",
    "        \"If the question is better suited for the web, search the web to fill in gaps.\",  # Use web as backup\n",
    "        \"Prefer the information in your knowledge base over the web results.\"  # Prioritize knowledge base\n",
    "    ],\n",
    "    knowledge=PDFUrlKnowledgeBase(  # Configure knowledge source\n",
    "        urls=[\"https://agno-public.s3.amazonaws.com/recipes/ThaiRecipes.pdf\"],  # URL to Thai recipes PDF\n",
    "        vector_db=LanceDb(  # Vector database configuration\n",
    "            uri=\"tmp/lancedb\",  # Local database storage path\n",
    "            table_name=\"recipes\",  # Table name for storing embeddings\n",
    "            search_type=SearchType.hybrid,  # Use hybrid search for better results\n",
    "            embedder=OpenAIEmbedder(id=\"text-embedding-3-small\"),  # Embedding model\n",
    "        ),\n",
    "    ),\n",
    "    tools=[DuckDuckGoTools()],  # Enable web search with DuckDuckGo\n",
    "    show_tool_calls=True,  # Display tool usage in output\n",
    "    markdown=True  # Format responses as markdown\n",
    ")"
   ]
  },
  {
   "cell_type": "markdown",
   "id": "9ceb61a0",
   "metadata": {},
   "source": [
    "Let's break down what this agent configuration does:\n",
    "\n",
    "1. **Base Model**: We're using `gpt-4o-mini`, OpenAI's efficient smaller version of their GPT-4o model\n",
    "2. **Agent Role**: We've defined the agent as a Thai cuisine expert\n",
    "3. **Knowledge Base**: The agent has access to a PDF document containing Thai recipes\n",
    "4. **Vector Database**: LanceDB stores and retrieves document embeddings using a hybrid search approach\n",
    "5. **Web Search**: DuckDuckGo integration allows the agent to search the web for additional information\n",
    "6. **Output Formatting**: Markdown support for better readability\n",
    "\n",
    "## Loading the Knowledge Base and Testing\n",
    "\n",
    "Next, we need to load our knowledge base and test the agent with some queries:"
   ]
  },
  {
   "cell_type": "code",
   "execution_count": 3,
   "id": "021d96a0",
   "metadata": {},
   "outputs": [
    {
     "data": {
      "text/html": [
       "<pre style=\"white-space:pre;overflow-x:auto;line-height:normal;font-family:Menlo,'DejaVu Sans Mono',consolas,'Courier New',monospace\"><span style=\"color: #000080; text-decoration-color: #000080\">INFO</span> Loading knowledge base                                                                                        \n",
       "</pre>\n"
      ],
      "text/plain": [
       "\u001b[34mINFO\u001b[0m Loading knowledge base                                                                                        \n"
      ]
     },
     "metadata": {},
     "output_type": "display_data"
    },
    {
     "data": {
      "text/html": [
       "<pre style=\"white-space:pre;overflow-x:auto;line-height:normal;font-family:Menlo,'DejaVu Sans Mono',consolas,'Courier New',monospace\"><span style=\"color: #000080; text-decoration-color: #000080\">INFO</span> Reading: <span style=\"color: #0000ff; text-decoration-color: #0000ff; text-decoration: underline\">https://agno-public.s3.amazonaws.com/recipes/ThaiRecipes.pdf</span>                                         \n",
       "</pre>\n"
      ],
      "text/plain": [
       "\u001b[34mINFO\u001b[0m Reading: \u001b[4;94mhttps://agno-public.s3.amazonaws.com/recipes/ThaiRecipes.pdf\u001b[0m                                         \n"
      ]
     },
     "metadata": {},
     "output_type": "display_data"
    },
    {
     "data": {
      "text/html": [
       "<pre style=\"white-space:pre;overflow-x:auto;line-height:normal;font-family:Menlo,'DejaVu Sans Mono',consolas,'Courier New',monospace\"><span style=\"color: #000080; text-decoration-color: #000080\">INFO</span> No documents to insert                                                                                        \n",
       "</pre>\n"
      ],
      "text/plain": [
       "\u001b[34mINFO\u001b[0m No documents to insert                                                                                        \n"
      ]
     },
     "metadata": {},
     "output_type": "display_data"
    },
    {
     "data": {
      "text/html": [
       "<pre style=\"white-space:pre;overflow-x:auto;line-height:normal;font-family:Menlo,'DejaVu Sans Mono',consolas,'Courier New',monospace\"><span style=\"color: #000080; text-decoration-color: #000080\">INFO</span> Added <span style=\"color: #008080; text-decoration-color: #008080; font-weight: bold\">0</span> documents to knowledge base                                                                           \n",
       "</pre>\n"
      ],
      "text/plain": [
       "\u001b[34mINFO\u001b[0m Added \u001b[1;36m0\u001b[0m documents to knowledge base                                                                           \n"
      ]
     },
     "metadata": {},
     "output_type": "display_data"
    },
    {
     "data": {
      "application/vnd.jupyter.widget-view+json": {
       "model_id": "d4e8e51cc4a148b2ad0ef5038dcee193",
       "version_major": 2,
       "version_minor": 0
      },
      "text/plain": [
       "Output()"
      ]
     },
     "metadata": {},
     "output_type": "display_data"
    },
    {
     "data": {
      "text/html": [
       "<pre style=\"white-space:pre;overflow-x:auto;line-height:normal;font-family:Menlo,'DejaVu Sans Mono',consolas,'Courier New',monospace\"></pre>\n"
      ],
      "text/plain": []
     },
     "metadata": {},
     "output_type": "display_data"
    },
    {
     "data": {
      "application/vnd.jupyter.widget-view+json": {
       "model_id": "e582d217aa34456db140c584f214f530",
       "version_major": 2,
       "version_minor": 0
      },
      "text/plain": [
       "Output()"
      ]
     },
     "metadata": {},
     "output_type": "display_data"
    },
    {
     "data": {
      "text/html": [
       "<pre style=\"white-space:pre;overflow-x:auto;line-height:normal;font-family:Menlo,'DejaVu Sans Mono',consolas,'Courier New',monospace\"></pre>\n"
      ],
      "text/plain": []
     },
     "metadata": {},
     "output_type": "display_data"
    }
   ],
   "source": [
    "# Comment out after the knowledge base is loaded\n",
    "if agent.knowledge is not None:  # Check if knowledge base exists\n",
    "    agent.knowledge.load()  # Load and index the PDF content\n",
    "\n",
    "# First query with markdown enabled\n",
    "agent.print_response(\"How do I make chicken and galangal in coconut milk soup\", stream=True)  # Query about Tom Kha Gai\n",
    "\n",
    "# For the second query, try-except block to handle potential markdown issues\n",
    "try:\n",
    "    agent.print_response(\"What is the history of Thai curry?\", stream=True)  # Try query with markdown\n",
    "except Exception as e:  # Handle potential markdown parsing errors\n",
    "    print(\"\\nEncountered an error with markdown formatting. Retrying without markdown...\\n\")  # Error message\n",
    "    # Create a temporary agent with markdown disabled for this query\n",
    "    temp_agent = Agent(  # Create alternative agent\n",
    "        model=OpenAIChat(id=\"gpt-4o-mini\"),  # Use same model\n",
    "        description=\"You are a Thai cuisine expert!\",  # Same role\n",
    "        instructions=[  # Same instructions\n",
    "            \"Search your knowledge base for Thai recipes.\",\n",
    "            \"If the question is better suited for the web, search the web to fill in gaps.\",\n",
    "            \"Prefer the information in your knowledge base over the web results.\"\n",
    "        ],\n",
    "        knowledge=agent.knowledge,  # Reuse the already loaded knowledge base\n",
    "        tools=[DuckDuckGoTools()],  # Same tools\n",
    "        show_tool_calls=True,  # Same settings\n",
    "        markdown=False  # Disable markdown formatting\n",
    "    )\n",
    "    temp_agent.print_response(\"What is the history of Thai curry?\", stream=True)  # Retry query without markdown"
   ]
  },
  {
   "cell_type": "markdown",
   "id": "0e1a4e4c",
   "metadata": {},
   "source": [
    "\n",
    "This code:\n",
    "\n",
    "1. Loads and indexes the Thai recipes PDF into the vector database\n",
    "2. Tests the agent with a recipe question (how to make Tom Kha Gai)\n",
    "3. Handles potential markdown formatting issues with a try-except block\n",
    "4. Creates a fallback agent with markdown disabled if needed\n",
    "\n",
    "## Key Technical Features\n",
    "\n",
    "This implementation demonstrates several advanced techniques:\n",
    "\n",
    "1. **Document Understanding**: The agent processes and indexes a PDF document, allowing it to reference specific Thai recipes.\n",
    "\n",
    "2. **Hybrid Search**: The `SearchType.hybrid` setting combines keyword and semantic search for more accurate document retrieval.\n",
    "\n",
    "3. **Knowledge Prioritization**: The agent is instructed to prefer its knowledge base over web search results, ensuring recipe authenticity.\n",
    "\n",
    "4. **Error Handling**: The code includes fallback mechanisms for potential markdown formatting issues.\n",
    "\n",
    "5. **Streaming Responses**: The `stream=True` parameter provides a more interactive user experience with progressive responses.\n",
    "\n",
    "## Use Cases for This Agent\n",
    "\n",
    "This Thai cuisine expert agent could be deployed in various scenarios:\n",
    "\n",
    "- **Cooking Applications**: Integrate it into cooking apps for authentic Thai recipe guidance\n",
    "- **Cultural Education**: Use it in educational platforms about Thai culinary traditions\n",
    "- **Restaurant Assistance**: Help restaurants develop authentic Thai menus\n",
    "- **Dietary Adaptation**: Assist users in adapting Thai recipes for dietary restrictions\n",
    "\n",
    "## Extending the Agent\n",
    "\n",
    "You could enhance this agent by:\n",
    "\n",
    "1. Adding more knowledge sources (additional PDFs about Thai regional cuisines)\n",
    "2. Implementing image generation capabilities to visualize dishes\n",
    "3. Adding a measurement conversion tool for international users\n",
    "4. Incorporating user feedback to improve recipe recommendations\n",
    "\n",
    "## Conclusion\n",
    "\n",
    "The Agno framework makes it straightforward to create specialized AI agents with domain expertise. Our Thai cuisine expert demonstrates how to combine document knowledge with web search capabilities to create a helpful culinary assistant.\n",
    "\n",
    "This approach can be adapted for many different domains - from legal research to technical support - by changing the knowledge sources and agent instructions while keeping the same underlying architecture.\n",
    "\n",
    "What specialized AI agent would you like to build with this framework? Let me know in the comments!"
   ]
  }
 ],
 "metadata": {
  "kernelspec": {
   "display_name": "base",
   "language": "python",
   "name": "python3"
  },
  "language_info": {
   "codemirror_mode": {
    "name": "ipython",
    "version": 3
   },
   "file_extension": ".py",
   "mimetype": "text/x-python",
   "name": "python",
   "nbconvert_exporter": "python",
   "pygments_lexer": "ipython3",
   "version": "3.12.4"
  }
 },
 "nbformat": 4,
 "nbformat_minor": 5
}
