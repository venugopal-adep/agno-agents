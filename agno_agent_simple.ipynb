{
 "cells": [
  {
   "cell_type": "markdown",
   "metadata": {},
   "source": [
    "# Simple Agno Agent\n",
    "https://github.com/agno-agi/agno/tree/main\n",
    "\n",
    "This notebook demonstrates how to create a simple agent using the Agno framework with minimal code."
   ]
  },
  {
   "cell_type": "code",
   "execution_count": 8,
   "metadata": {},
   "outputs": [],
   "source": [
    "#!pip install agno"
   ]
  },
  {
   "cell_type": "code",
   "execution_count": 7,
   "metadata": {},
   "outputs": [
    {
     "data": {
      "text/plain": [
       "True"
      ]
     },
     "execution_count": 7,
     "metadata": {},
     "output_type": "execute_result"
    }
   ],
   "source": [
    "import os                                        # Provides access to environment variables and OS functionality\n",
    "from dotenv import load_dotenv                   # Loads environment variables from .env file\n",
    "from agno.agent import Agent                     # Core Agno Agent class for creating AI agents\n",
    "from agno.models.openai import OpenAIChat        # OpenAI's chat models integration for Agno\n",
    "from agno.tools.duckduckgo import DuckDuckGoTools # DuckDuckGo search tools for web information retrieval\n",
    "from IPython.display import Markdown, display    # Jupyter notebook display utilities for formatted output\n",
    "load_dotenv(override=True)                       # Load environment variables from .env file, overriding existing ones"
   ]
  },
  {
   "cell_type": "markdown",
   "metadata": {},
   "source": [
    "## Create and Use the Agent\n",
    "\n",
    "The following function creates a simple agent with DuckDuckGo search capability and returns responses in markdown format."
   ]
  },
  {
   "cell_type": "code",
   "execution_count": 2,
   "metadata": {},
   "outputs": [],
   "source": [
    "def create_agent(model_id=\"gpt-4o-mini\"):\n",
    "    \"\"\"Create an Agno agent with the specified model ID.\"\"\"\n",
    "    return Agent(\n",
    "        model=OpenAIChat(id=model_id, api_key=os.getenv(\"OPENAI_API_KEY\")),  # Initialize the language model with API key from environment\n",
    "        description=\"You are a concise and helpful assistant.\",              # Set the agent's personality and behavior\n",
    "        tools=[DuckDuckGoTools()],                                           # Equip the agent with DuckDuckGo search capability\n",
    "        markdown=True                                                        # Enable markdown formatting in responses\n",
    "    )\n",
    "\n",
    "def ask(query, model_id=\"gpt-4o-mini\"):\n",
    "    \"\"\"Ask a question and display the markdown response.\"\"\"\n",
    "    agent = create_agent(model_id)                                           # Initialize a new agent with specified model\n",
    "    response = agent.run(query)                                              # Execute the query and get response\n",
    "    \n",
    "    # Display results\n",
    "    print(f\"\\nQuestion: {query}\\n\\nAnswer:\")                                 # Print the original question for context\n",
    "    display(Markdown(response.content if hasattr(response, 'content') else str(response)))  # Render response as markdown in notebook\n",
    "    return response                                                          # Return response object for potential further processing"
   ]
  },
  {
   "cell_type": "markdown",
   "metadata": {},
   "source": [
    "## Examples\n",
    "\n",
    "Try asking different questions to see how the agent responds."
   ]
  },
  {
   "cell_type": "code",
   "execution_count": 6,
   "metadata": {},
   "outputs": [
    {
     "name": "stdout",
     "output_type": "stream",
     "text": [
      "\n",
      "Question: Who is the current chief minister of Delhi?\n",
      "\n",
      "Answer:\n"
     ]
    },
    {
     "data": {
      "text/markdown": [
       "The current Chief Minister of Delhi is **Rekha Gupta**, who took office on February 20, 2025. She is the first woman to hold the position from the Bharatiya Janata Party (BJP). \n",
       "\n",
       "For more details, you can check the following links:\n",
       "- [List of chief ministers of Delhi - Wikipedia](https://en.wikipedia.org/wiki/List_of_chief_ministers_of_Delhi)\n",
       "- [Rekha Gupta takes charge as ninth Chief Minister of Delhi](https://www.thehindu.com/elections/delhi-assembly/rekha-gupta-takes-oath-as-delhi-chief-minister/article69241758.ece)"
      ],
      "text/plain": [
       "<IPython.core.display.Markdown object>"
      ]
     },
     "metadata": {},
     "output_type": "display_data"
    },
    {
     "data": {
      "text/plain": [
       "RunResponse(content='The current Chief Minister of Delhi is **Rekha Gupta**, who took office on February 20, 2025. She is the first woman to hold the position from the Bharatiya Janata Party (BJP). \\n\\nFor more details, you can check the following links:\\n- [List of chief ministers of Delhi - Wikipedia](https://en.wikipedia.org/wiki/List_of_chief_ministers_of_Delhi)\\n- [Rekha Gupta takes charge as ninth Chief Minister of Delhi](https://www.thehindu.com/elections/delhi-assembly/rekha-gupta-takes-oath-as-delhi-chief-minister/article69241758.ece)', content_type='str', thinking=None, event='RunResponse', messages=[Message(role='system', content='You are a concise and helpful assistant.\\n\\n<additional_information>\\n- Use markdown to format your answers.\\n</additional_information>', name=None, tool_call_id=None, tool_calls=None, audio=None, images=None, videos=None, files=None, audio_output=None, image_output=None, thinking=None, redacted_thinking=None, provider_data=None, citations=None, reasoning_content=None, tool_name=None, tool_args=None, tool_call_error=None, stop_after_tool_call=False, add_to_agent_memory=True, from_history=False, metrics=MessageMetrics(input_tokens=0, output_tokens=0, total_tokens=0, prompt_tokens=0, completion_tokens=0, prompt_tokens_details=None, completion_tokens_details=None, additional_metrics=None, time=None, time_to_first_token=None, timer=None), references=None, created_at=1745127535), Message(role='user', content='Who is the current chief minister of Delhi?', name=None, tool_call_id=None, tool_calls=None, audio=None, images=None, videos=None, files=None, audio_output=None, image_output=None, thinking=None, redacted_thinking=None, provider_data=None, citations=None, reasoning_content=None, tool_name=None, tool_args=None, tool_call_error=None, stop_after_tool_call=False, add_to_agent_memory=True, from_history=False, metrics=MessageMetrics(input_tokens=0, output_tokens=0, total_tokens=0, prompt_tokens=0, completion_tokens=0, prompt_tokens_details=None, completion_tokens_details=None, additional_metrics=None, time=None, time_to_first_token=None, timer=None), references=None, created_at=1745127535), Message(role='assistant', content=None, name=None, tool_call_id=None, tool_calls=[{'id': 'call_8DTVUzLXDxkEEIFKhEWDkNmh', 'function': {'arguments': '{\"query\":\"current chief minister of Delhi\"}', 'name': 'duckduckgo_search'}, 'type': 'function'}], audio=None, images=None, videos=None, files=None, audio_output=None, image_output=None, thinking=None, redacted_thinking=None, provider_data=None, citations=None, reasoning_content=None, tool_name=None, tool_args=None, tool_call_error=None, stop_after_tool_call=False, add_to_agent_memory=True, from_history=False, metrics=MessageMetrics(input_tokens=173, output_tokens=22, total_tokens=195, prompt_tokens=173, completion_tokens=22, prompt_tokens_details={'audio_tokens': 0, 'cached_tokens': 0}, completion_tokens_details={'accepted_prediction_tokens': 0, 'audio_tokens': 0, 'reasoning_tokens': 0, 'rejected_prediction_tokens': 0}, additional_metrics=None, time=1.139517125004204, time_to_first_token=None, timer=<agno.utils.timer.Timer object at 0x107e27230>), references=None, created_at=1745127535), Message(role='tool', content='[\\n  {\\n    \"title\": \"List of chief ministers of Delhi - Wikipedia\",\\n    \"href\": \"https://en.wikipedia.org/wiki/List_of_chief_ministers_of_Delhi\",\\n    \"body\": \"Since 1952, the National Capital Territory of Delhi has had 7 chief ministers, starting with the Indian National Congress party\\'s Chaudhary Brahm Prakash.The office of the chief minister was abolished for 37 years after the States Reorganisation Act of 1956.In 1991, growing demand for self-governance [2] led to the 69th Amendment to the Indian Constitution which granted Delhi National Capital ...\"\\n  },\\n  {\\n    \"title\": \"Rekha Gupta of India\\'s ruling BJP sworn in as chief minister of Delhi\",\\n    \"href\": \"https://www.aljazeera.com/news/2025/2/20/rekha-gupta-of-indias-ruling-bjp-sworn-in-as-chief-minister-of-delhi\",\\n    \"body\": \"Rekha Gupta is the fourth woman to hold the post of chief minister of Delhi, a sprawling city of more than 30 million people [Sajjad Hussain/AFP] Published On 20 Feb 2025 20 Feb 2025.\"\\n  },\\n  {\\n    \"title\": \"Who is Rekha Gupta, Delhi\\'s new Chief Minister? - The Hindu\",\\n    \"href\": \"https://www.thehindu.com/news/cities/Delhi/rekha-gupta-delhi-new-chief-minister/article69239166.ece\",\\n    \"body\": \"Former Chief Minister and AAP supremo Mr. Kejriwal posted a congratulatory message to Ms. Gupta on X, saying, \\\\\"I hope that she will fulfil all the promises made to the people of Delhi.\"\\n  },\\n  {\\n    \"title\": \"Rekha Gupta takes charge as ninth Chief Minister of Delhi\",\\n    \"href\": \"https://www.thehindu.com/elections/delhi-assembly/rekha-gupta-takes-oath-as-delhi-chief-minister/article69241758.ece\",\\n    \"body\": \"Bharatiya Janata Party\\'s MLA Rekha Gupta took oath as the ninth Chief Minister of Delhi at the Ramlila Maidan on Thursday (February 20, 2025). A six-member Council of Ministers were also sworn ...\"\\n  },\\n  {\\n    \"title\": \"Who is Rekha Gupta? Delhi\\'s next chief minister - Times of India\",\\n    \"href\": \"https://m.timesofindia.com/india/who-is-rekha-gupta-delhis-next-chief-minister/articleshow/118391683.cms\",\\n    \"body\": \"NEW DELHI: Rekha Gupta has been announced as next chief minister of Delhi, marking the BJP\\'s comeback in the national capital after 27 years. Rekha, a first-time MLA, won the Shalimar Bagh ...\"\\n  }\\n]', name=None, tool_call_id='call_8DTVUzLXDxkEEIFKhEWDkNmh', tool_calls=None, audio=None, images=None, videos=None, files=None, audio_output=None, image_output=None, thinking=None, redacted_thinking=None, provider_data=None, citations=None, reasoning_content=None, tool_name='duckduckgo_search', tool_args={'query': 'current chief minister of Delhi'}, tool_call_error=False, stop_after_tool_call=False, add_to_agent_memory=True, from_history=False, metrics=MessageMetrics(input_tokens=0, output_tokens=0, total_tokens=0, prompt_tokens=0, completion_tokens=0, prompt_tokens_details=None, completion_tokens_details=None, additional_metrics=None, time=1.055364500003634, time_to_first_token=None, timer=None), references=None, created_at=1745127537), Message(role='assistant', content='The current Chief Minister of Delhi is **Rekha Gupta**, who took office on February 20, 2025. She is the first woman to hold the position from the Bharatiya Janata Party (BJP). \\n\\nFor more details, you can check the following links:\\n- [List of chief ministers of Delhi - Wikipedia](https://en.wikipedia.org/wiki/List_of_chief_ministers_of_Delhi)\\n- [Rekha Gupta takes charge as ninth Chief Minister of Delhi](https://www.thehindu.com/elections/delhi-assembly/rekha-gupta-takes-oath-as-delhi-chief-minister/article69241758.ece)', name=None, tool_call_id=None, tool_calls=None, audio=None, images=None, videos=None, files=None, audio_output=None, image_output=None, thinking=None, redacted_thinking=None, provider_data=None, citations=None, reasoning_content=None, tool_name=None, tool_args=None, tool_call_error=None, stop_after_tool_call=False, add_to_agent_memory=True, from_history=False, metrics=MessageMetrics(input_tokens=803, output_tokens=139, total_tokens=942, prompt_tokens=803, completion_tokens=139, prompt_tokens_details={'audio_tokens': 0, 'cached_tokens': 0}, completion_tokens_details={'accepted_prediction_tokens': 0, 'audio_tokens': 0, 'reasoning_tokens': 0, 'rejected_prediction_tokens': 0}, additional_metrics=None, time=1.660258124989923, time_to_first_token=None, timer=<agno.utils.timer.Timer object at 0x107e49640>), references=None, created_at=1745127537)], metrics={'input_tokens': [173, 803], 'output_tokens': [22, 139], 'total_tokens': [195, 942], 'prompt_tokens': [173, 803], 'completion_tokens': [22, 139], 'prompt_tokens_details': [{'audio_tokens': 0, 'cached_tokens': 0}, {'audio_tokens': 0, 'cached_tokens': 0}], 'completion_tokens_details': [{'accepted_prediction_tokens': 0, 'audio_tokens': 0, 'reasoning_tokens': 0, 'rejected_prediction_tokens': 0}, {'accepted_prediction_tokens': 0, 'audio_tokens': 0, 'reasoning_tokens': 0, 'rejected_prediction_tokens': 0}], 'time': [1.139517125004204, 1.660258124989923]}, model='gpt-4o-mini', run_id='45505207-c79f-4079-80d6-e3d11e7a748d', agent_id='6a81bba2-5311-4b5b-a5cb-79dc4b4a1404', session_id='50a3f067-8596-498d-adac-fa217c9cf195', workflow_id=None, tools=[{'content': '[\\n  {\\n    \"title\": \"List of chief ministers of Delhi - Wikipedia\",\\n    \"href\": \"https://en.wikipedia.org/wiki/List_of_chief_ministers_of_Delhi\",\\n    \"body\": \"Since 1952, the National Capital Territory of Delhi has had 7 chief ministers, starting with the Indian National Congress party\\'s Chaudhary Brahm Prakash.The office of the chief minister was abolished for 37 years after the States Reorganisation Act of 1956.In 1991, growing demand for self-governance [2] led to the 69th Amendment to the Indian Constitution which granted Delhi National Capital ...\"\\n  },\\n  {\\n    \"title\": \"Rekha Gupta of India\\'s ruling BJP sworn in as chief minister of Delhi\",\\n    \"href\": \"https://www.aljazeera.com/news/2025/2/20/rekha-gupta-of-indias-ruling-bjp-sworn-in-as-chief-minister-of-delhi\",\\n    \"body\": \"Rekha Gupta is the fourth woman to hold the post of chief minister of Delhi, a sprawling city of more than 30 million people [Sajjad Hussain/AFP] Published On 20 Feb 2025 20 Feb 2025.\"\\n  },\\n  {\\n    \"title\": \"Who is Rekha Gupta, Delhi\\'s new Chief Minister? - The Hindu\",\\n    \"href\": \"https://www.thehindu.com/news/cities/Delhi/rekha-gupta-delhi-new-chief-minister/article69239166.ece\",\\n    \"body\": \"Former Chief Minister and AAP supremo Mr. Kejriwal posted a congratulatory message to Ms. Gupta on X, saying, \\\\\"I hope that she will fulfil all the promises made to the people of Delhi.\"\\n  },\\n  {\\n    \"title\": \"Rekha Gupta takes charge as ninth Chief Minister of Delhi\",\\n    \"href\": \"https://www.thehindu.com/elections/delhi-assembly/rekha-gupta-takes-oath-as-delhi-chief-minister/article69241758.ece\",\\n    \"body\": \"Bharatiya Janata Party\\'s MLA Rekha Gupta took oath as the ninth Chief Minister of Delhi at the Ramlila Maidan on Thursday (February 20, 2025). A six-member Council of Ministers were also sworn ...\"\\n  },\\n  {\\n    \"title\": \"Who is Rekha Gupta? Delhi\\'s next chief minister - Times of India\",\\n    \"href\": \"https://m.timesofindia.com/india/who-is-rekha-gupta-delhis-next-chief-minister/articleshow/118391683.cms\",\\n    \"body\": \"NEW DELHI: Rekha Gupta has been announced as next chief minister of Delhi, marking the BJP\\'s comeback in the national capital after 27 years. Rekha, a first-time MLA, won the Shalimar Bagh ...\"\\n  }\\n]', 'tool_call_id': 'call_8DTVUzLXDxkEEIFKhEWDkNmh', 'tool_name': 'duckduckgo_search', 'tool_args': {'query': 'current chief minister of Delhi'}, 'tool_call_error': False, 'metrics': MessageMetrics(input_tokens=0, output_tokens=0, total_tokens=0, prompt_tokens=0, completion_tokens=0, prompt_tokens_details=None, completion_tokens_details=None, additional_metrics=None, time=1.055364500003634, time_to_first_token=None, timer=None), 'created_at': 1745127537}], formatted_tool_calls=['duckduckgo_search(query=current chief minister of Delhi)'], images=None, videos=None, audio=None, response_audio=None, citations=None, extra_data=None, created_at=1745114814)"
      ]
     },
     "execution_count": 6,
     "metadata": {},
     "output_type": "execute_result"
    }
   ],
   "source": [
    "# Example 1: Current events question\n",
    "ask(\"Who is the current chief minister of Delhi?\")"
   ]
  },
  {
   "cell_type": "code",
   "execution_count": 4,
   "metadata": {},
   "outputs": [
    {
     "name": "stdout",
     "output_type": "stream",
     "text": [
      "\n",
      "Question: Latest news on tariff war by Trump?\n",
      "\n",
      "Answer:\n"
     ]
    },
    {
     "data": {
      "text/markdown": [
       "Here are the latest news articles related to the tariff war associated with Trump:\n",
       "\n",
       "1. **[China poised to interfere as Trump seeks tariff deal with EU, experts warn](https://www.msn.com/en-us/money/markets/china-poised-to-interfere-as-trump-seeks-tariff-deal-with-eu-experts-warn/ar-AA1DefIk)**  \n",
       "   *Date:* April 19, 2025  \n",
       "   *Summary:* China and the EU may strengthen trade ties as Beijing ramps up exports to the EU amid faltering trade with the U.S. under severe tariffs.  \n",
       "   ![Image](https://a57.foxnews.com/static.foxbusiness.com/foxbusiness.com/content/uploads/2025/04/0/0/turmp.png?ve=1&tl=1)\n",
       "\n",
       "2. **[Top Trump Aides Forced to Circumvent Navarro to Ease Tariff War](https://www.msn.com/en-us/news/politics/top-trump-aides-forced-to-circumvent-navarro-to-ease-tariff-war/ar-AA1DcO9l)**  \n",
       "   *Date:* April 19, 2025  \n",
       "   *Summary:* Two cabinet members had to intervene against Trump's tariff decisions by bypassing advisor Peter Navarro to calm market fears.  \n",
       "   ![Image](https://img-s-msn-com.akamaized.net/tenant/amp/entityid/AA1DcJnm.img?w=4497&h=2530&m=4&q=80)\n",
       "\n",
       "3. **[Vance to visit India as Trump intensifies tariff war with China](https://www.msn.com/en-us/money/markets/vance-to-visit-india-as-trump-intensifies-tariff-war-with-china/ar-AA1D5nGK)**  \n",
       "   *Date:* April 17, 2025  \n",
       "   *Summary:* U.S. Vice-President JD Vance will meet with Indian Prime Minister Modi as both nations negotiate a bilateral trade deal amid escalating tariffs on China.  \n",
       "   ![Image](https://img-s-msn-com.akamaized.net/tenant/amp/entityid/AA1D59RW.img?w=1015&h=571&m=4&q=74)\n",
       "\n",
       "4. **[Americans Reveal the Brutal Impact of Canadian Snowbirds Boycotting the U.S. Amid Trump's Tariff War](https://www.yahoo.com/lifestyle/americans-reveal-brutal-impact-canadian-153000303.html)**  \n",
       "   *Date:* April 17, 2025  \n",
       "   *Summary:* Weakening relations and tariffs have led to Canadian tourists avoiding the U.S., affecting businesses.  \n",
       "   ![Image](https://s.yimg.com/ny/api/res/1.2/5bHf.q8BOiHDjjJBEwNsIA--/YXBwaWQ9aGlnaGxhbmRlcjt3PTEyMDA7aD02NzU-/https://media.zenfs.com/en/realtor_com_468/5789ab3b926b51da0acaef25663709f8)\n",
       "\n",
       "5. **[Trump's tariffs war is sparking uncertainty for North Carolina farmers](https://www.msn.com/en-us/news/politics/can-tariffs-turn-farmers-in-this-critical-state-away-from-trump/ar-AA1CSl7M)**  \n",
       "   *Date:* April 14, 2025  \n",
       "   *Summary:* Farmers in North Carolina express concern over the unpredictable effects of tariffs on their livelihoods.  \n",
       "   ![Image](https://img-s-msn-com.akamaized.net/tenant/amp/entityid/AA1CSnfV.img?w=4206&h=2804&m=4&q=68)\n",
       "\n",
       "Feel free to click the links for more detailed information!"
      ],
      "text/plain": [
       "<IPython.core.display.Markdown object>"
      ]
     },
     "metadata": {},
     "output_type": "display_data"
    },
    {
     "data": {
      "text/plain": [
       "RunResponse(content=\"Here are the latest news articles related to the tariff war associated with Trump:\\n\\n1. **[China poised to interfere as Trump seeks tariff deal with EU, experts warn](https://www.msn.com/en-us/money/markets/china-poised-to-interfere-as-trump-seeks-tariff-deal-with-eu-experts-warn/ar-AA1DefIk)**  \\n   *Date:* April 19, 2025  \\n   *Summary:* China and the EU may strengthen trade ties as Beijing ramps up exports to the EU amid faltering trade with the U.S. under severe tariffs.  \\n   ![Image](https://a57.foxnews.com/static.foxbusiness.com/foxbusiness.com/content/uploads/2025/04/0/0/turmp.png?ve=1&tl=1)\\n\\n2. **[Top Trump Aides Forced to Circumvent Navarro to Ease Tariff War](https://www.msn.com/en-us/news/politics/top-trump-aides-forced-to-circumvent-navarro-to-ease-tariff-war/ar-AA1DcO9l)**  \\n   *Date:* April 19, 2025  \\n   *Summary:* Two cabinet members had to intervene against Trump's tariff decisions by bypassing advisor Peter Navarro to calm market fears.  \\n   ![Image](https://img-s-msn-com.akamaized.net/tenant/amp/entityid/AA1DcJnm.img?w=4497&h=2530&m=4&q=80)\\n\\n3. **[Vance to visit India as Trump intensifies tariff war with China](https://www.msn.com/en-us/money/markets/vance-to-visit-india-as-trump-intensifies-tariff-war-with-china/ar-AA1D5nGK)**  \\n   *Date:* April 17, 2025  \\n   *Summary:* U.S. Vice-President JD Vance will meet with Indian Prime Minister Modi as both nations negotiate a bilateral trade deal amid escalating tariffs on China.  \\n   ![Image](https://img-s-msn-com.akamaized.net/tenant/amp/entityid/AA1D59RW.img?w=1015&h=571&m=4&q=74)\\n\\n4. **[Americans Reveal the Brutal Impact of Canadian Snowbirds Boycotting the U.S. Amid Trump's Tariff War](https://www.yahoo.com/lifestyle/americans-reveal-brutal-impact-canadian-153000303.html)**  \\n   *Date:* April 17, 2025  \\n   *Summary:* Weakening relations and tariffs have led to Canadian tourists avoiding the U.S., affecting businesses.  \\n   ![Image](https://s.yimg.com/ny/api/res/1.2/5bHf.q8BOiHDjjJBEwNsIA--/YXBwaWQ9aGlnaGxhbmRlcjt3PTEyMDA7aD02NzU-/https://media.zenfs.com/en/realtor_com_468/5789ab3b926b51da0acaef25663709f8)\\n\\n5. **[Trump's tariffs war is sparking uncertainty for North Carolina farmers](https://www.msn.com/en-us/news/politics/can-tariffs-turn-farmers-in-this-critical-state-away-from-trump/ar-AA1CSl7M)**  \\n   *Date:* April 14, 2025  \\n   *Summary:* Farmers in North Carolina express concern over the unpredictable effects of tariffs on their livelihoods.  \\n   ![Image](https://img-s-msn-com.akamaized.net/tenant/amp/entityid/AA1CSnfV.img?w=4206&h=2804&m=4&q=68)\\n\\nFeel free to click the links for more detailed information!\", content_type='str', thinking=None, event='RunResponse', messages=[Message(role='system', content='You are a concise and helpful assistant.\\n\\n<additional_information>\\n- Use markdown to format your answers.\\n</additional_information>', name=None, tool_call_id=None, tool_calls=None, audio=None, images=None, videos=None, files=None, audio_output=None, image_output=None, thinking=None, redacted_thinking=None, provider_data=None, citations=None, reasoning_content=None, tool_name=None, tool_args=None, tool_call_error=None, stop_after_tool_call=False, add_to_agent_memory=True, from_history=False, metrics=MessageMetrics(input_tokens=0, output_tokens=0, total_tokens=0, prompt_tokens=0, completion_tokens=0, prompt_tokens_details=None, completion_tokens_details=None, additional_metrics=None, time=None, time_to_first_token=None, timer=None), references=None, created_at=1745114819), Message(role='user', content='Latest news on tariff war by Trump?', name=None, tool_call_id=None, tool_calls=None, audio=None, images=None, videos=None, files=None, audio_output=None, image_output=None, thinking=None, redacted_thinking=None, provider_data=None, citations=None, reasoning_content=None, tool_name=None, tool_args=None, tool_call_error=None, stop_after_tool_call=False, add_to_agent_memory=True, from_history=False, metrics=MessageMetrics(input_tokens=0, output_tokens=0, total_tokens=0, prompt_tokens=0, completion_tokens=0, prompt_tokens_details=None, completion_tokens_details=None, additional_metrics=None, time=None, time_to_first_token=None, timer=None), references=None, created_at=1745114819), Message(role='assistant', content=None, name=None, tool_call_id=None, tool_calls=[{'id': 'call_Z7GduuwhC9VuZ9SENqWa1sQw', 'function': {'arguments': '{\"query\":\"Trump tariff war\",\"max_results\":5}', 'name': 'duckduckgo_news'}, 'type': 'function'}], audio=None, images=None, videos=None, files=None, audio_output=None, image_output=None, thinking=None, redacted_thinking=None, provider_data=None, citations=None, reasoning_content=None, tool_name=None, tool_args=None, tool_call_error=None, stop_after_tool_call=False, add_to_agent_memory=True, from_history=False, metrics=MessageMetrics(input_tokens=172, output_tokens=25, total_tokens=197, prompt_tokens=172, completion_tokens=25, prompt_tokens_details={'audio_tokens': 0, 'cached_tokens': 0}, completion_tokens_details={'accepted_prediction_tokens': 0, 'audio_tokens': 0, 'reasoning_tokens': 0, 'rejected_prediction_tokens': 0}, additional_metrics=None, time=1.4225953330023913, time_to_first_token=None, timer=<agno.utils.timer.Timer object at 0x107c46fc0>), references=None, created_at=1745114819), Message(role='tool', content='[\\n  {\\n    \"date\": \"2025-04-19T15:00:31+00:00\",\\n    \"title\": \"China poised to interfere as Trump seeks tariff deal with EU, experts warn\",\\n    \"body\": \"China and the European Union may be looking to strengthen trade ties as Beijing looks to ramp up exports to the EU as trade with the U.S. falters under severe tariffs.\",\\n    \"url\": \"https://www.msn.com/en-us/money/markets/china-poised-to-interfere-as-trump-seeks-tariff-deal-with-eu-experts-warn/ar-AA1DefIk\",\\n    \"image\": \"https://a57.foxnews.com/static.foxbusiness.com/foxbusiness.com/content/uploads/2025/04/0/0/turmp.png?ve=1&tl=1\",\\n    \"source\": \"Fox Business\"\\n  },\\n  {\\n    \"date\": \"2025-04-19T01:25:57+00:00\",\\n    \"title\": \"Top Trump Aides Forced to Circumvent Navarro to Ease Tariff War\",\\n    \"body\": \"Two members of President Donald Trump\\'s cabinet sought to intervene against his tariff tantrum earlier this month, having to go behind Peter Navarro\\'s back to do so. The Wall Street Journal reports that Treasury Secretary Scott Bessent and Commerce Secretary Howard Lutnick met with Trump earlier this month to convince the president to pause his tariff plan in order to calm the market.\",\\n    \"url\": \"https://www.msn.com/en-us/news/politics/top-trump-aides-forced-to-circumvent-navarro-to-ease-tariff-war/ar-AA1DcO9l\",\\n    \"image\": \"https://img-s-msn-com.akamaized.net/tenant/amp/entityid/AA1DcJnm.img?w=4497&h=2530&m=4&q=80\",\\n    \"source\": \"The Daily Beast\"\\n  },\\n  {\\n    \"date\": \"2025-04-17T07:07:24+00:00\",\\n    \"title\": \"Vance to visit India as Trump intensifies tariff war with China\",\\n    \"body\": \"US Vice-President JD Vance will meet Prime Minister Narendra Modi on a four-day visit to India next week as their two countries negotiate a bilateral trade deal. The two leaders are scheduled to meet on 21 April,\",\\n    \"url\": \"https://www.msn.com/en-us/money/markets/vance-to-visit-india-as-trump-intensifies-tariff-war-with-china/ar-AA1D5nGK\",\\n    \"image\": \"https://img-s-msn-com.akamaized.net/tenant/amp/entityid/AA1D59RW.img?w=1015&h=571&m=4&q=74\",\\n    \"source\": \"BBC\"\\n  },\\n  {\\n    \"date\": \"2025-04-17T15:30:00+00:00\",\\n    \"title\": \"Americans Reveal the Brutal Impact of Canadian Snowbirds Boycotting the U.S. Amid Trump\\'s Tariff War: \\'It\\'s a Challenging Period\\'\",\\n    \"body\": \"Weakening relations and tariffs have chilled relations between Canada and the U.S. Now, some Canadians are skipping the U.S.\",\\n    \"url\": \"https://www.yahoo.com/lifestyle/americans-reveal-brutal-impact-canadian-153000303.html\",\\n    \"image\": \"https://s.yimg.com/ny/api/res/1.2/5bHf.q8BOiHDjjJBEwNsIA--/YXBwaWQ9aGlnaGxhbmRlcjt3PTEyMDA7aD02NzU-/https://media.zenfs.com/en/realtor_com_468/5789ab3b926b51da0acaef25663709f8\",\\n    \"source\": \"Yahoo\"\\n  },\\n  {\\n    \"date\": \"2025-04-14T09:00:53+00:00\",\\n    \"title\": \"Trump\\'s tariffs war is sparking uncertainty for North Carolina farmers\",\\n    \"body\": \"It\\'s always been a guessing game here on the farm, but I think it\\'s more of a guess now than it\\'s ever been in my lifetime,\\\\\" one North Carolina farmer said last week.\",\\n    \"url\": \"https://www.msn.com/en-us/news/politics/can-tariffs-turn-farmers-in-this-critical-state-away-from-trump/ar-AA1CSl7M\",\\n    \"image\": \"https://img-s-msn-com.akamaized.net/tenant/amp/entityid/AA1CSnfV.img?w=4206&h=2804&m=4&q=68\",\\n    \"source\": \"The Washington Post\"\\n  }\\n]', name=None, tool_call_id='call_Z7GduuwhC9VuZ9SENqWa1sQw', tool_calls=None, audio=None, images=None, videos=None, files=None, audio_output=None, image_output=None, thinking=None, redacted_thinking=None, provider_data=None, citations=None, reasoning_content=None, tool_name='duckduckgo_news', tool_args={'query': 'Trump tariff war', 'max_results': 5}, tool_call_error=False, stop_after_tool_call=False, add_to_agent_memory=True, from_history=False, metrics=MessageMetrics(input_tokens=0, output_tokens=0, total_tokens=0, prompt_tokens=0, completion_tokens=0, prompt_tokens_details=None, completion_tokens_details=None, additional_metrics=None, time=1.4243674169993028, time_to_first_token=None, timer=None), references=None, created_at=1745114822), Message(role='assistant', content=\"Here are the latest news articles related to the tariff war associated with Trump:\\n\\n1. **[China poised to interfere as Trump seeks tariff deal with EU, experts warn](https://www.msn.com/en-us/money/markets/china-poised-to-interfere-as-trump-seeks-tariff-deal-with-eu-experts-warn/ar-AA1DefIk)**  \\n   *Date:* April 19, 2025  \\n   *Summary:* China and the EU may strengthen trade ties as Beijing ramps up exports to the EU amid faltering trade with the U.S. under severe tariffs.  \\n   ![Image](https://a57.foxnews.com/static.foxbusiness.com/foxbusiness.com/content/uploads/2025/04/0/0/turmp.png?ve=1&tl=1)\\n\\n2. **[Top Trump Aides Forced to Circumvent Navarro to Ease Tariff War](https://www.msn.com/en-us/news/politics/top-trump-aides-forced-to-circumvent-navarro-to-ease-tariff-war/ar-AA1DcO9l)**  \\n   *Date:* April 19, 2025  \\n   *Summary:* Two cabinet members had to intervene against Trump's tariff decisions by bypassing advisor Peter Navarro to calm market fears.  \\n   ![Image](https://img-s-msn-com.akamaized.net/tenant/amp/entityid/AA1DcJnm.img?w=4497&h=2530&m=4&q=80)\\n\\n3. **[Vance to visit India as Trump intensifies tariff war with China](https://www.msn.com/en-us/money/markets/vance-to-visit-india-as-trump-intensifies-tariff-war-with-china/ar-AA1D5nGK)**  \\n   *Date:* April 17, 2025  \\n   *Summary:* U.S. Vice-President JD Vance will meet with Indian Prime Minister Modi as both nations negotiate a bilateral trade deal amid escalating tariffs on China.  \\n   ![Image](https://img-s-msn-com.akamaized.net/tenant/amp/entityid/AA1D59RW.img?w=1015&h=571&m=4&q=74)\\n\\n4. **[Americans Reveal the Brutal Impact of Canadian Snowbirds Boycotting the U.S. Amid Trump's Tariff War](https://www.yahoo.com/lifestyle/americans-reveal-brutal-impact-canadian-153000303.html)**  \\n   *Date:* April 17, 2025  \\n   *Summary:* Weakening relations and tariffs have led to Canadian tourists avoiding the U.S., affecting businesses.  \\n   ![Image](https://s.yimg.com/ny/api/res/1.2/5bHf.q8BOiHDjjJBEwNsIA--/YXBwaWQ9aGlnaGxhbmRlcjt3PTEyMDA7aD02NzU-/https://media.zenfs.com/en/realtor_com_468/5789ab3b926b51da0acaef25663709f8)\\n\\n5. **[Trump's tariffs war is sparking uncertainty for North Carolina farmers](https://www.msn.com/en-us/news/politics/can-tariffs-turn-farmers-in-this-critical-state-away-from-trump/ar-AA1CSl7M)**  \\n   *Date:* April 14, 2025  \\n   *Summary:* Farmers in North Carolina express concern over the unpredictable effects of tariffs on their livelihoods.  \\n   ![Image](https://img-s-msn-com.akamaized.net/tenant/amp/entityid/AA1CSnfV.img?w=4206&h=2804&m=4&q=68)\\n\\nFeel free to click the links for more detailed information!\", name=None, tool_call_id=None, tool_calls=None, audio=None, images=None, videos=None, files=None, audio_output=None, image_output=None, thinking=None, redacted_thinking=None, provider_data=None, citations=None, reasoning_content=None, tool_name=None, tool_args=None, tool_call_error=None, stop_after_tool_call=False, add_to_agent_memory=True, from_history=False, metrics=MessageMetrics(input_tokens=1216, output_tokens=796, total_tokens=2012, prompt_tokens=1216, completion_tokens=796, prompt_tokens_details={'audio_tokens': 0, 'cached_tokens': 0}, completion_tokens_details={'accepted_prediction_tokens': 0, 'audio_tokens': 0, 'reasoning_tokens': 0, 'rejected_prediction_tokens': 0}, additional_metrics=None, time=8.608934959003818, time_to_first_token=None, timer=<agno.utils.timer.Timer object at 0x107c46de0>), references=None, created_at=1745114822)], metrics={'input_tokens': [172, 1216], 'output_tokens': [25, 796], 'total_tokens': [197, 2012], 'prompt_tokens': [172, 1216], 'completion_tokens': [25, 796], 'prompt_tokens_details': [{'audio_tokens': 0, 'cached_tokens': 0}, {'audio_tokens': 0, 'cached_tokens': 0}], 'completion_tokens_details': [{'accepted_prediction_tokens': 0, 'audio_tokens': 0, 'reasoning_tokens': 0, 'rejected_prediction_tokens': 0}, {'accepted_prediction_tokens': 0, 'audio_tokens': 0, 'reasoning_tokens': 0, 'rejected_prediction_tokens': 0}], 'time': [1.4225953330023913, 8.608934959003818]}, model='gpt-4o-mini', run_id='2b3b7852-34dc-40c0-a2cf-0e6accb4d3e5', agent_id='6a01accd-2ab0-47a8-b121-225f1f240a04', session_id='2687a08b-d2a4-4204-a448-dd5a7069f60a', workflow_id=None, tools=[{'content': '[\\n  {\\n    \"date\": \"2025-04-19T15:00:31+00:00\",\\n    \"title\": \"China poised to interfere as Trump seeks tariff deal with EU, experts warn\",\\n    \"body\": \"China and the European Union may be looking to strengthen trade ties as Beijing looks to ramp up exports to the EU as trade with the U.S. falters under severe tariffs.\",\\n    \"url\": \"https://www.msn.com/en-us/money/markets/china-poised-to-interfere-as-trump-seeks-tariff-deal-with-eu-experts-warn/ar-AA1DefIk\",\\n    \"image\": \"https://a57.foxnews.com/static.foxbusiness.com/foxbusiness.com/content/uploads/2025/04/0/0/turmp.png?ve=1&tl=1\",\\n    \"source\": \"Fox Business\"\\n  },\\n  {\\n    \"date\": \"2025-04-19T01:25:57+00:00\",\\n    \"title\": \"Top Trump Aides Forced to Circumvent Navarro to Ease Tariff War\",\\n    \"body\": \"Two members of President Donald Trump\\'s cabinet sought to intervene against his tariff tantrum earlier this month, having to go behind Peter Navarro\\'s back to do so. The Wall Street Journal reports that Treasury Secretary Scott Bessent and Commerce Secretary Howard Lutnick met with Trump earlier this month to convince the president to pause his tariff plan in order to calm the market.\",\\n    \"url\": \"https://www.msn.com/en-us/news/politics/top-trump-aides-forced-to-circumvent-navarro-to-ease-tariff-war/ar-AA1DcO9l\",\\n    \"image\": \"https://img-s-msn-com.akamaized.net/tenant/amp/entityid/AA1DcJnm.img?w=4497&h=2530&m=4&q=80\",\\n    \"source\": \"The Daily Beast\"\\n  },\\n  {\\n    \"date\": \"2025-04-17T07:07:24+00:00\",\\n    \"title\": \"Vance to visit India as Trump intensifies tariff war with China\",\\n    \"body\": \"US Vice-President JD Vance will meet Prime Minister Narendra Modi on a four-day visit to India next week as their two countries negotiate a bilateral trade deal. The two leaders are scheduled to meet on 21 April,\",\\n    \"url\": \"https://www.msn.com/en-us/money/markets/vance-to-visit-india-as-trump-intensifies-tariff-war-with-china/ar-AA1D5nGK\",\\n    \"image\": \"https://img-s-msn-com.akamaized.net/tenant/amp/entityid/AA1D59RW.img?w=1015&h=571&m=4&q=74\",\\n    \"source\": \"BBC\"\\n  },\\n  {\\n    \"date\": \"2025-04-17T15:30:00+00:00\",\\n    \"title\": \"Americans Reveal the Brutal Impact of Canadian Snowbirds Boycotting the U.S. Amid Trump\\'s Tariff War: \\'It\\'s a Challenging Period\\'\",\\n    \"body\": \"Weakening relations and tariffs have chilled relations between Canada and the U.S. Now, some Canadians are skipping the U.S.\",\\n    \"url\": \"https://www.yahoo.com/lifestyle/americans-reveal-brutal-impact-canadian-153000303.html\",\\n    \"image\": \"https://s.yimg.com/ny/api/res/1.2/5bHf.q8BOiHDjjJBEwNsIA--/YXBwaWQ9aGlnaGxhbmRlcjt3PTEyMDA7aD02NzU-/https://media.zenfs.com/en/realtor_com_468/5789ab3b926b51da0acaef25663709f8\",\\n    \"source\": \"Yahoo\"\\n  },\\n  {\\n    \"date\": \"2025-04-14T09:00:53+00:00\",\\n    \"title\": \"Trump\\'s tariffs war is sparking uncertainty for North Carolina farmers\",\\n    \"body\": \"It\\'s always been a guessing game here on the farm, but I think it\\'s more of a guess now than it\\'s ever been in my lifetime,\\\\\" one North Carolina farmer said last week.\",\\n    \"url\": \"https://www.msn.com/en-us/news/politics/can-tariffs-turn-farmers-in-this-critical-state-away-from-trump/ar-AA1CSl7M\",\\n    \"image\": \"https://img-s-msn-com.akamaized.net/tenant/amp/entityid/AA1CSnfV.img?w=4206&h=2804&m=4&q=68\",\\n    \"source\": \"The Washington Post\"\\n  }\\n]', 'tool_call_id': 'call_Z7GduuwhC9VuZ9SENqWa1sQw', 'tool_name': 'duckduckgo_news', 'tool_args': {'query': 'Trump tariff war', 'max_results': 5}, 'tool_call_error': False, 'metrics': MessageMetrics(input_tokens=0, output_tokens=0, total_tokens=0, prompt_tokens=0, completion_tokens=0, prompt_tokens_details=None, completion_tokens_details=None, additional_metrics=None, time=1.4243674169993028, time_to_first_token=None, timer=None), 'created_at': 1745114822}], formatted_tool_calls=['duckduckgo_news(query=Trump tariff war, max_results=5)'], images=None, videos=None, audio=None, response_audio=None, citations=None, extra_data=None, created_at=1745114814)"
      ]
     },
     "execution_count": 4,
     "metadata": {},
     "output_type": "execute_result"
    }
   ],
   "source": [
    "# Example 2: Try a different question\n",
    "ask(\"Latest news on tariff war by Trump?\")"
   ]
  },
  {
   "cell_type": "code",
   "execution_count": 5,
   "metadata": {},
   "outputs": [
    {
     "name": "stdout",
     "output_type": "stream",
     "text": [
      "\n",
      "Question: Latest ai model released by OpenAI?\n",
      "\n",
      "Answer:\n"
     ]
    },
    {
     "data": {
      "text/markdown": [
       "The latest AI models released by OpenAI are **o3** and **o4-mini**, announced on April 16, 2025. Here's a brief overview:\n",
       "\n",
       "1. **OpenAI o3**:\n",
       "   - Described as the most powerful reasoning model to date, excelling in areas such as coding, math, science, and visual perception.\n",
       "   - It aims to handle complex queries requiring multi-faceted analysis.\n",
       "\n",
       "   [Learn more about OpenAI o3](https://openai.com/index/introducing-o3-and-o4-mini/)\n",
       "\n",
       "2. **OpenAI o4-mini**:\n",
       "   - A smaller, optimized model designed for faster responses, focusing on reasoning through complex tasks.\n",
       "   - Utilizes a technique called deliberative alignment to enhance safety and reasoning.\n",
       "\n",
       "   [Learn more about OpenAI o4-mini](https://openai.com/index/openai-o3-mini/)\n",
       "\n",
       "For additional details, you can check the [OpenAI Help Center's Model Release Notes](https://help.openai.com/en/articles/9624314-model-release-notes) and news coverage [from CNBC](https://www.cnbc.com/2025/04/16/openai-releases-most-advanced-ai-model-yet-o3-o4-mini-reasoning-images.html)."
      ],
      "text/plain": [
       "<IPython.core.display.Markdown object>"
      ]
     },
     "metadata": {},
     "output_type": "display_data"
    },
    {
     "data": {
      "text/plain": [
       "RunResponse(content=\"The latest AI models released by OpenAI are **o3** and **o4-mini**, announced on April 16, 2025. Here's a brief overview:\\n\\n1. **OpenAI o3**:\\n   - Described as the most powerful reasoning model to date, excelling in areas such as coding, math, science, and visual perception.\\n   - It aims to handle complex queries requiring multi-faceted analysis.\\n\\n   [Learn more about OpenAI o3](https://openai.com/index/introducing-o3-and-o4-mini/)\\n\\n2. **OpenAI o4-mini**:\\n   - A smaller, optimized model designed for faster responses, focusing on reasoning through complex tasks.\\n   - Utilizes a technique called deliberative alignment to enhance safety and reasoning.\\n\\n   [Learn more about OpenAI o4-mini](https://openai.com/index/openai-o3-mini/)\\n\\nFor additional details, you can check the [OpenAI Help Center's Model Release Notes](https://help.openai.com/en/articles/9624314-model-release-notes) and news coverage [from CNBC](https://www.cnbc.com/2025/04/16/openai-releases-most-advanced-ai-model-yet-o3-o4-mini-reasoning-images.html).\", content_type='str', thinking=None, event='RunResponse', messages=[Message(role='system', content='You are a concise and helpful assistant.\\n\\n<additional_information>\\n- Use markdown to format your answers.\\n</additional_information>', name=None, tool_call_id=None, tool_calls=None, audio=None, images=None, videos=None, files=None, audio_output=None, image_output=None, thinking=None, redacted_thinking=None, provider_data=None, citations=None, reasoning_content=None, tool_name=None, tool_args=None, tool_call_error=None, stop_after_tool_call=False, add_to_agent_memory=True, from_history=False, metrics=MessageMetrics(input_tokens=0, output_tokens=0, total_tokens=0, prompt_tokens=0, completion_tokens=0, prompt_tokens_details=None, completion_tokens_details=None, additional_metrics=None, time=None, time_to_first_token=None, timer=None), references=None, created_at=1745114831), Message(role='user', content='Latest ai model released by OpenAI?', name=None, tool_call_id=None, tool_calls=None, audio=None, images=None, videos=None, files=None, audio_output=None, image_output=None, thinking=None, redacted_thinking=None, provider_data=None, citations=None, reasoning_content=None, tool_name=None, tool_args=None, tool_call_error=None, stop_after_tool_call=False, add_to_agent_memory=True, from_history=False, metrics=MessageMetrics(input_tokens=0, output_tokens=0, total_tokens=0, prompt_tokens=0, completion_tokens=0, prompt_tokens_details=None, completion_tokens_details=None, additional_metrics=None, time=None, time_to_first_token=None, timer=None), references=None, created_at=1745114831), Message(role='assistant', content=None, name=None, tool_call_id=None, tool_calls=[{'id': 'call_nCaUwv7uYSsLX7WSKeJTeMRe', 'function': {'arguments': '{\"query\":\"latest AI model release by OpenAI\",\"max_results\":5}', 'name': 'duckduckgo_search'}, 'type': 'function'}], audio=None, images=None, videos=None, files=None, audio_output=None, image_output=None, thinking=None, redacted_thinking=None, provider_data=None, citations=None, reasoning_content=None, tool_name=None, tool_args=None, tool_call_error=None, stop_after_tool_call=False, add_to_agent_memory=True, from_history=False, metrics=MessageMetrics(input_tokens=172, output_tokens=29, total_tokens=201, prompt_tokens=172, completion_tokens=29, prompt_tokens_details={'audio_tokens': 0, 'cached_tokens': 0}, completion_tokens_details={'accepted_prediction_tokens': 0, 'audio_tokens': 0, 'reasoning_tokens': 0, 'rejected_prediction_tokens': 0}, additional_metrics=None, time=1.504982333004591, time_to_first_token=None, timer=<agno.utils.timer.Timer object at 0x107e27260>), references=None, created_at=1745114831), Message(role='tool', content='[\\n  {\\n    \"title\": \"Introducing OpenAI o3 and o4-mini\",\\n    \"href\": \"https://openai.com/index/introducing-o3-and-o4-mini/\",\\n    \"body\": \"OpenAI o3 is our most powerful reasoning model that pushes the frontier across coding, math, science, visual perception, and more.It sets a new SOTA on benchmarks including Codeforces, SWE-bench (without building a custom model-specific scaffold), and MMMU. It\\'s ideal for complex queries requiring multi-faceted analysis and whose answers may not be immediately obvious.\"\\n  },\\n  {\\n    \"title\": \"Model Release Notes - OpenAI Help Center\",\\n    \"href\": \"https://help.openai.com/en/articles/9624314-model-release-notes\",\\n    \"body\": \"Model Release Notes. Model Release Notes. Updated this week. Table of contents. o3 and o4-mini (April 16, 2025) ... OpenAI o4-mini is a smaller model optimized for fast, ... We\\'ve developed a new series of AI models designed to spend more time thinking before they respond. They can reason through complex tasks and solve harder problems than ...\"\\n  },\\n  {\\n    \"title\": \"OpenAI o3-mini\",\\n    \"href\": \"https://openai.com/index/openai-o3-mini/\",\\n    \"body\": \"Pushing the frontier of cost-effective reasoning. One of the key techniques we used to teach OpenAI o3\\\\u2011mini to respond safely is deliberative alignment, where we trained the model to reason about human-written safety specifications before answering user prompts.Similar to OpenAI o1, we find that o3\\\\u2011mini significantly surpasses GPT\\\\u20114o on challenging safety and jailbreak evaluations.\"\\n  },\\n  {\\n    \"title\": \"OpenAI Research | Release\",\\n    \"href\": \"https://openai.com/research/index/release/\",\\n    \"body\": \"OpenAI o3 and o4-mini represent a significant breakthrough in visual perception by reasoning with images in their chain of thought. ... a benchmark evaluating the ability of AI agents to replicate state-of-the-art AI research. Product. Mar 25, 2025. ... Sharing the latest Model Spec.\"\\n  },\\n  {\\n    \"title\": \"OpenAI says newest AI model can \\'think with images ... - CNBC\",\\n    \"href\": \"https://www.cnbc.com/2025/04/16/openai-releases-most-advanced-ai-model-yet-o3-o4-mini-reasoning-images.html\",\\n    \"body\": \"OpenAI released its newest AI model and said it can understand uploaded images like whiteboards, sketches and diagrams, even if they\\'re low quality.\"\\n  }\\n]', name=None, tool_call_id='call_nCaUwv7uYSsLX7WSKeJTeMRe', tool_calls=None, audio=None, images=None, videos=None, files=None, audio_output=None, image_output=None, thinking=None, redacted_thinking=None, provider_data=None, citations=None, reasoning_content=None, tool_name='duckduckgo_search', tool_args={'query': 'latest AI model release by OpenAI', 'max_results': 5}, tool_call_error=False, stop_after_tool_call=False, add_to_agent_memory=True, from_history=False, metrics=MessageMetrics(input_tokens=0, output_tokens=0, total_tokens=0, prompt_tokens=0, completion_tokens=0, prompt_tokens_details=None, completion_tokens_details=None, additional_metrics=None, time=0.9141059160028817, time_to_first_token=None, timer=None), references=None, created_at=1745114834), Message(role='assistant', content=\"The latest AI models released by OpenAI are **o3** and **o4-mini**, announced on April 16, 2025. Here's a brief overview:\\n\\n1. **OpenAI o3**:\\n   - Described as the most powerful reasoning model to date, excelling in areas such as coding, math, science, and visual perception.\\n   - It aims to handle complex queries requiring multi-faceted analysis.\\n\\n   [Learn more about OpenAI o3](https://openai.com/index/introducing-o3-and-o4-mini/)\\n\\n2. **OpenAI o4-mini**:\\n   - A smaller, optimized model designed for faster responses, focusing on reasoning through complex tasks.\\n   - Utilizes a technique called deliberative alignment to enhance safety and reasoning.\\n\\n   [Learn more about OpenAI o4-mini](https://openai.com/index/openai-o3-mini/)\\n\\nFor additional details, you can check the [OpenAI Help Center's Model Release Notes](https://help.openai.com/en/articles/9624314-model-release-notes) and news coverage [from CNBC](https://www.cnbc.com/2025/04/16/openai-releases-most-advanced-ai-model-yet-o3-o4-mini-reasoning-images.html).\", name=None, tool_call_id=None, tool_calls=None, audio=None, images=None, videos=None, files=None, audio_output=None, image_output=None, thinking=None, redacted_thinking=None, provider_data=None, citations=None, reasoning_content=None, tool_name=None, tool_args=None, tool_call_error=None, stop_after_tool_call=False, add_to_agent_memory=True, from_history=False, metrics=MessageMetrics(input_tokens=765, output_tokens=262, total_tokens=1027, prompt_tokens=765, completion_tokens=262, prompt_tokens_details={'audio_tokens': 0, 'cached_tokens': 0}, completion_tokens_details={'accepted_prediction_tokens': 0, 'audio_tokens': 0, 'reasoning_tokens': 0, 'rejected_prediction_tokens': 0}, additional_metrics=None, time=3.1812255420081783, time_to_first_token=None, timer=<agno.utils.timer.Timer object at 0x107e25610>), references=None, created_at=1745114834)], metrics={'input_tokens': [172, 765], 'output_tokens': [29, 262], 'total_tokens': [201, 1027], 'prompt_tokens': [172, 765], 'completion_tokens': [29, 262], 'prompt_tokens_details': [{'audio_tokens': 0, 'cached_tokens': 0}, {'audio_tokens': 0, 'cached_tokens': 0}], 'completion_tokens_details': [{'accepted_prediction_tokens': 0, 'audio_tokens': 0, 'reasoning_tokens': 0, 'rejected_prediction_tokens': 0}, {'accepted_prediction_tokens': 0, 'audio_tokens': 0, 'reasoning_tokens': 0, 'rejected_prediction_tokens': 0}], 'time': [1.504982333004591, 3.1812255420081783]}, model='gpt-4o-mini', run_id='ce3ee564-b8dc-44fa-9f98-7d7b417e20b0', agent_id='78be254e-ccfe-488a-8a8d-c48940bbdb41', session_id='fe8a73c8-13e7-4f73-b8e9-58c73603fe6f', workflow_id=None, tools=[{'content': '[\\n  {\\n    \"title\": \"Introducing OpenAI o3 and o4-mini\",\\n    \"href\": \"https://openai.com/index/introducing-o3-and-o4-mini/\",\\n    \"body\": \"OpenAI o3 is our most powerful reasoning model that pushes the frontier across coding, math, science, visual perception, and more.It sets a new SOTA on benchmarks including Codeforces, SWE-bench (without building a custom model-specific scaffold), and MMMU. It\\'s ideal for complex queries requiring multi-faceted analysis and whose answers may not be immediately obvious.\"\\n  },\\n  {\\n    \"title\": \"Model Release Notes - OpenAI Help Center\",\\n    \"href\": \"https://help.openai.com/en/articles/9624314-model-release-notes\",\\n    \"body\": \"Model Release Notes. Model Release Notes. Updated this week. Table of contents. o3 and o4-mini (April 16, 2025) ... OpenAI o4-mini is a smaller model optimized for fast, ... We\\'ve developed a new series of AI models designed to spend more time thinking before they respond. They can reason through complex tasks and solve harder problems than ...\"\\n  },\\n  {\\n    \"title\": \"OpenAI o3-mini\",\\n    \"href\": \"https://openai.com/index/openai-o3-mini/\",\\n    \"body\": \"Pushing the frontier of cost-effective reasoning. One of the key techniques we used to teach OpenAI o3\\\\u2011mini to respond safely is deliberative alignment, where we trained the model to reason about human-written safety specifications before answering user prompts.Similar to OpenAI o1, we find that o3\\\\u2011mini significantly surpasses GPT\\\\u20114o on challenging safety and jailbreak evaluations.\"\\n  },\\n  {\\n    \"title\": \"OpenAI Research | Release\",\\n    \"href\": \"https://openai.com/research/index/release/\",\\n    \"body\": \"OpenAI o3 and o4-mini represent a significant breakthrough in visual perception by reasoning with images in their chain of thought. ... a benchmark evaluating the ability of AI agents to replicate state-of-the-art AI research. Product. Mar 25, 2025. ... Sharing the latest Model Spec.\"\\n  },\\n  {\\n    \"title\": \"OpenAI says newest AI model can \\'think with images ... - CNBC\",\\n    \"href\": \"https://www.cnbc.com/2025/04/16/openai-releases-most-advanced-ai-model-yet-o3-o4-mini-reasoning-images.html\",\\n    \"body\": \"OpenAI released its newest AI model and said it can understand uploaded images like whiteboards, sketches and diagrams, even if they\\'re low quality.\"\\n  }\\n]', 'tool_call_id': 'call_nCaUwv7uYSsLX7WSKeJTeMRe', 'tool_name': 'duckduckgo_search', 'tool_args': {'query': 'latest AI model release by OpenAI', 'max_results': 5}, 'tool_call_error': False, 'metrics': MessageMetrics(input_tokens=0, output_tokens=0, total_tokens=0, prompt_tokens=0, completion_tokens=0, prompt_tokens_details=None, completion_tokens_details=None, additional_metrics=None, time=0.9141059160028817, time_to_first_token=None, timer=None), 'created_at': 1745114834}], formatted_tool_calls=['duckduckgo_search(query=latest AI model release by OpenAI, max_results=5)'], images=None, videos=None, audio=None, response_audio=None, citations=None, extra_data=None, created_at=1745114814)"
      ]
     },
     "execution_count": 5,
     "metadata": {},
     "output_type": "execute_result"
    }
   ],
   "source": [
    "# Example 3: Try a different question\n",
    "ask(\"Latest ai model released by OpenAI?\")"
   ]
  }
 ],
 "metadata": {
  "kernelspec": {
   "display_name": "base",
   "language": "python",
   "name": "python3"
  },
  "language_info": {
   "codemirror_mode": {
    "name": "ipython",
    "version": 3
   },
   "file_extension": ".py",
   "mimetype": "text/x-python",
   "name": "python",
   "nbconvert_exporter": "python",
   "pygments_lexer": "ipython3",
   "version": "3.12.4"
  }
 },
 "nbformat": 4,
 "nbformat_minor": 2
}
